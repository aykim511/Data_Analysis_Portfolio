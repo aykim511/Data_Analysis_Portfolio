{
 "cells": [
  {
   "cell_type": "code",
   "execution_count": 1,
   "metadata": {},
   "outputs": [],
   "source": [
    "from bs4 import BeautifulSoup\n",
    "import requests\n",
    "import time\n",
    "import datetime\n",
    "\n",
    "import smtplib\n",
    "import pandas as pd\n",
    "import csv"
   ]
  },
  {
   "cell_type": "code",
   "execution_count": 2,
   "metadata": {},
   "outputs": [
    {
     "name": "stdout",
     "output_type": "stream",
     "text": [
      "File saved:0\n",
      "File saved:2\n",
      "File saved:4\n",
      "File saved:6\n",
      "File saved:8\n",
      "File saved:10\n",
      "File saved:11\n",
      "File saved:12\n",
      "File saved:13\n",
      "File saved:14\n",
      "File saved:19\n",
      "File saved:21\n",
      "File saved:22\n",
      "File saved:23\n"
     ]
    }
   ],
   "source": [
    "url = 'https://finance.yahoo.com/most-active'\n",
    "\n",
    "headers = {\"User-Agent\": \"Mozilla/5.0 (Macintosh; Intel Mac OS X 10_15_7) AppleWebKit/605.1.15 (KHTML, like Gecko) Version/15.2 Safari/605.1.15\"}\n",
    "\n",
    "page = requests.get(url, headers=headers)\n",
    "\n",
    "soup = BeautifulSoup(page.content, 'html.parser')\n",
    "\n",
    "soup2 = BeautifulSoup(soup.prettify(), 'html.parser')\n",
    "\n",
    "companies = soup2.find_all('tr', attrs = {'class': 'simpTblRow'})\n",
    "\n",
    "for index, company in enumerate(companies):\n",
    "    pe_ratio = company.find('td',{'aria-label':'PE Ratio (TTM)'}).text\n",
    "    pe_ratio = pe_ratio.strip()\n",
    "    if 'N/A' not in pe_ratio:\n",
    "\n",
    "        comp_name = company.find('td','Va(m) Ta(start) Px(10px) Fz(s)').text\n",
    "        comp_name = comp_name.strip()\n",
    "\n",
    "        ticker = company.find('a', 'Fw(600)').text\n",
    "        ticker = ticker.strip()\n",
    "\n",
    "        price = company.find('fin-streamer', {'data-field':'regularMarketPrice'}).text\n",
    "        price = price.strip()\n",
    "\n",
    "        change = company.find('fin-streamer', {'data-field':'regularMarketChange'}).text\n",
    "        change = change.strip()\n",
    "\n",
    "        more_info = company.td.a['href']\n",
    "        more_info = 'https://finance.yahoo.com' + more_info\n",
    "\n",
    "        percent_change = company.find('fin-streamer', {'data-field':'regularMarketChangePercent'}).text\n",
    "        percent_change = percent_change.strip()\n",
    "        with open(f'Scraped/{index}.txt', 'w') as f:\n",
    "\n",
    "            f.write(f'Company: {comp_name} \\n')\n",
    "            f.write(f'Symbol: {ticker} \\n')\n",
    "            f.write(f'Price: {price} \\n')\n",
    "            f.write(f'Change: {change} \\n')\n",
    "            f.write(f'Percent Change: {percent_change} \\n')\n",
    "            f.write(f'PE Ratio: {pe_ratio} \\n')\n",
    "            f.write(f'More Info: {more_info} \\n')\n",
    "        print(f'File saved:{index}')\n",
    "        "
   ]
  },
  {
   "cell_type": "code",
   "execution_count": null,
   "metadata": {},
   "outputs": [],
   "source": []
  }
 ],
 "metadata": {
  "interpreter": {
   "hash": "aee8b7b246df8f9039afb4144a1f6fd8d2ca17a180786b69acc140d282b71a49"
  },
  "kernelspec": {
   "display_name": "Python 3.10.5 64-bit",
   "language": "python",
   "name": "python3"
  },
  "language_info": {
   "codemirror_mode": {
    "name": "ipython",
    "version": 3
   },
   "file_extension": ".py",
   "mimetype": "text/x-python",
   "name": "python",
   "nbconvert_exporter": "python",
   "pygments_lexer": "ipython3",
   "version": "3.10.5"
  },
  "orig_nbformat": 4
 },
 "nbformat": 4,
 "nbformat_minor": 2
}
